{
  "nbformat": 4,
  "nbformat_minor": 0,
  "metadata": {
    "colab": {
      "provenance": [],
      "toc_visible": true
    },
    "kernelspec": {
      "name": "python3",
      "display_name": "Python 3"
    },
    "language_info": {
      "name": "python"
    }
  },
  "cells": [
    {
      "cell_type": "markdown",
      "source": [
        "# Send a message to Confluent Kafka [Producer]"
      ],
      "metadata": {
        "id": "yZE83TVJyRkl"
      }
    },
    {
      "cell_type": "code",
      "source": [
        "!pip install confluent-kafka"
      ],
      "metadata": {
        "colab": {
          "base_uri": "https://localhost:8080/"
        },
        "id": "UiE-wFWN3DhS",
        "outputId": "f982d5e4-a427-4935-88b7-f832474d62c1"
      },
      "execution_count": null,
      "outputs": [
        {
          "output_type": "stream",
          "name": "stdout",
          "text": [
            "Collecting confluent-kafka\n",
            "  Downloading confluent_kafka-2.11.1-cp312-cp312-manylinux_2_28_x86_64.whl.metadata (23 kB)\n",
            "Downloading confluent_kafka-2.11.1-cp312-cp312-manylinux_2_28_x86_64.whl (3.9 MB)\n",
            "\u001b[?25l   \u001b[90m━━━━━━━━━━━━━━━━━━━━━━━━━━━━━━━━━━━━━━━━\u001b[0m \u001b[32m0.0/3.9 MB\u001b[0m \u001b[31m?\u001b[0m eta \u001b[36m-:--:--\u001b[0m\r\u001b[2K   \u001b[91m━━━━━━━━━━━━━━━━━\u001b[0m\u001b[90m╺\u001b[0m\u001b[90m━━━━━━━━━━━━━━━━━━━━━━\u001b[0m \u001b[32m1.7/3.9 MB\u001b[0m \u001b[31m50.7 MB/s\u001b[0m eta \u001b[36m0:00:01\u001b[0m\r\u001b[2K   \u001b[90m━━━━━━━━━━━━━━━━━━━━━━━━━━━━━━━━━━━━━━━━\u001b[0m \u001b[32m3.9/3.9 MB\u001b[0m \u001b[31m56.9 MB/s\u001b[0m eta \u001b[36m0:00:00\u001b[0m\n",
            "\u001b[?25hInstalling collected packages: confluent-kafka\n",
            "Successfully installed confluent-kafka-2.11.1\n"
          ]
        }
      ]
    },
    {
      "cell_type": "code",
      "execution_count": null,
      "metadata": {
        "id": "2bcNPNMfx7U9"
      },
      "outputs": [],
      "source": [
        "# Required connection configs for kafka producer consumer and admin\n",
        "from confluent_kafka import Producer\n",
        "import json\n",
        "import time\n",
        "import pandas as pd\n",
        "import numpy as np"
      ]
    },
    {
      "cell_type": "code",
      "source": [
        "# create a json\n",
        "json_records = df.to_dict(orient='records')\n",
        "json_file = 'first_100_customers.json'\n",
        "with open(json_file, 'w') as f:\n",
        "    json.dump(json_records, f, indent=4)\n",
        "print(\"File converted to json\")"
      ],
      "metadata": {
        "colab": {
          "base_uri": "https://localhost:8080/"
        },
        "id": "1yw4mOTn34MR",
        "outputId": "0ab3233c-4ba2-40a0-c9d1-20f0b10512c6"
      },
      "execution_count": null,
      "outputs": [
        {
          "output_type": "stream",
          "name": "stdout",
          "text": [
            "File converted to json\n"
          ]
        }
      ]
    },
    {
      "cell_type": "code",
      "source": [
        "df = pd.read_csv(\"/content/first_100_customers.csv\")\n",
        "df.head(5)"
      ],
      "metadata": {
        "colab": {
          "base_uri": "https://localhost:8080/",
          "height": 206
        },
        "id": "Zh4e7vfc3qmB",
        "outputId": "3a492ad5-0c40-4b97-b15c-5a7756f9db7c"
      },
      "execution_count": null,
      "outputs": [
        {
          "output_type": "execute_result",
          "data": {
            "text/plain": [
              "   customer_id        name       city        state country registration_date  \\\n",
              "0            0  Customer_0       Pune  Maharashtra   India        2023-06-29   \n",
              "1            1  Customer_1  Bangalore   Tamil Nadu   India        2023-12-07   \n",
              "2            2  Customer_2  Hyderabad      Gujarat   India        2023-10-27   \n",
              "3            3  Customer_3  Bangalore    Karnataka   India        2023-10-17   \n",
              "4            4  Customer_4  Ahmedabad    Karnataka   India        2023-03-14   \n",
              "\n",
              "   is_active  \n",
              "0      False  \n",
              "1       True  \n",
              "2       True  \n",
              "3      False  \n",
              "4      False  "
            ],
            "text/html": [
              "\n",
              "  <div id=\"df-7e13c5fd-220d-4034-bc06-ba7002b12e4b\" class=\"colab-df-container\">\n",
              "    <div>\n",
              "<style scoped>\n",
              "    .dataframe tbody tr th:only-of-type {\n",
              "        vertical-align: middle;\n",
              "    }\n",
              "\n",
              "    .dataframe tbody tr th {\n",
              "        vertical-align: top;\n",
              "    }\n",
              "\n",
              "    .dataframe thead th {\n",
              "        text-align: right;\n",
              "    }\n",
              "</style>\n",
              "<table border=\"1\" class=\"dataframe\">\n",
              "  <thead>\n",
              "    <tr style=\"text-align: right;\">\n",
              "      <th></th>\n",
              "      <th>customer_id</th>\n",
              "      <th>name</th>\n",
              "      <th>city</th>\n",
              "      <th>state</th>\n",
              "      <th>country</th>\n",
              "      <th>registration_date</th>\n",
              "      <th>is_active</th>\n",
              "    </tr>\n",
              "  </thead>\n",
              "  <tbody>\n",
              "    <tr>\n",
              "      <th>0</th>\n",
              "      <td>0</td>\n",
              "      <td>Customer_0</td>\n",
              "      <td>Pune</td>\n",
              "      <td>Maharashtra</td>\n",
              "      <td>India</td>\n",
              "      <td>2023-06-29</td>\n",
              "      <td>False</td>\n",
              "    </tr>\n",
              "    <tr>\n",
              "      <th>1</th>\n",
              "      <td>1</td>\n",
              "      <td>Customer_1</td>\n",
              "      <td>Bangalore</td>\n",
              "      <td>Tamil Nadu</td>\n",
              "      <td>India</td>\n",
              "      <td>2023-12-07</td>\n",
              "      <td>True</td>\n",
              "    </tr>\n",
              "    <tr>\n",
              "      <th>2</th>\n",
              "      <td>2</td>\n",
              "      <td>Customer_2</td>\n",
              "      <td>Hyderabad</td>\n",
              "      <td>Gujarat</td>\n",
              "      <td>India</td>\n",
              "      <td>2023-10-27</td>\n",
              "      <td>True</td>\n",
              "    </tr>\n",
              "    <tr>\n",
              "      <th>3</th>\n",
              "      <td>3</td>\n",
              "      <td>Customer_3</td>\n",
              "      <td>Bangalore</td>\n",
              "      <td>Karnataka</td>\n",
              "      <td>India</td>\n",
              "      <td>2023-10-17</td>\n",
              "      <td>False</td>\n",
              "    </tr>\n",
              "    <tr>\n",
              "      <th>4</th>\n",
              "      <td>4</td>\n",
              "      <td>Customer_4</td>\n",
              "      <td>Ahmedabad</td>\n",
              "      <td>Karnataka</td>\n",
              "      <td>India</td>\n",
              "      <td>2023-03-14</td>\n",
              "      <td>False</td>\n",
              "    </tr>\n",
              "  </tbody>\n",
              "</table>\n",
              "</div>\n",
              "    <div class=\"colab-df-buttons\">\n",
              "\n",
              "  <div class=\"colab-df-container\">\n",
              "    <button class=\"colab-df-convert\" onclick=\"convertToInteractive('df-7e13c5fd-220d-4034-bc06-ba7002b12e4b')\"\n",
              "            title=\"Convert this dataframe to an interactive table.\"\n",
              "            style=\"display:none;\">\n",
              "\n",
              "  <svg xmlns=\"http://www.w3.org/2000/svg\" height=\"24px\" viewBox=\"0 -960 960 960\">\n",
              "    <path d=\"M120-120v-720h720v720H120Zm60-500h600v-160H180v160Zm220 220h160v-160H400v160Zm0 220h160v-160H400v160ZM180-400h160v-160H180v160Zm440 0h160v-160H620v160ZM180-180h160v-160H180v160Zm440 0h160v-160H620v160Z\"/>\n",
              "  </svg>\n",
              "    </button>\n",
              "\n",
              "  <style>\n",
              "    .colab-df-container {\n",
              "      display:flex;\n",
              "      gap: 12px;\n",
              "    }\n",
              "\n",
              "    .colab-df-convert {\n",
              "      background-color: #E8F0FE;\n",
              "      border: none;\n",
              "      border-radius: 50%;\n",
              "      cursor: pointer;\n",
              "      display: none;\n",
              "      fill: #1967D2;\n",
              "      height: 32px;\n",
              "      padding: 0 0 0 0;\n",
              "      width: 32px;\n",
              "    }\n",
              "\n",
              "    .colab-df-convert:hover {\n",
              "      background-color: #E2EBFA;\n",
              "      box-shadow: 0px 1px 2px rgba(60, 64, 67, 0.3), 0px 1px 3px 1px rgba(60, 64, 67, 0.15);\n",
              "      fill: #174EA6;\n",
              "    }\n",
              "\n",
              "    .colab-df-buttons div {\n",
              "      margin-bottom: 4px;\n",
              "    }\n",
              "\n",
              "    [theme=dark] .colab-df-convert {\n",
              "      background-color: #3B4455;\n",
              "      fill: #D2E3FC;\n",
              "    }\n",
              "\n",
              "    [theme=dark] .colab-df-convert:hover {\n",
              "      background-color: #434B5C;\n",
              "      box-shadow: 0px 1px 3px 1px rgba(0, 0, 0, 0.15);\n",
              "      filter: drop-shadow(0px 1px 2px rgba(0, 0, 0, 0.3));\n",
              "      fill: #FFFFFF;\n",
              "    }\n",
              "  </style>\n",
              "\n",
              "    <script>\n",
              "      const buttonEl =\n",
              "        document.querySelector('#df-7e13c5fd-220d-4034-bc06-ba7002b12e4b button.colab-df-convert');\n",
              "      buttonEl.style.display =\n",
              "        google.colab.kernel.accessAllowed ? 'block' : 'none';\n",
              "\n",
              "      async function convertToInteractive(key) {\n",
              "        const element = document.querySelector('#df-7e13c5fd-220d-4034-bc06-ba7002b12e4b');\n",
              "        const dataTable =\n",
              "          await google.colab.kernel.invokeFunction('convertToInteractive',\n",
              "                                                    [key], {});\n",
              "        if (!dataTable) return;\n",
              "\n",
              "        const docLinkHtml = 'Like what you see? Visit the ' +\n",
              "          '<a target=\"_blank\" href=https://colab.research.google.com/notebooks/data_table.ipynb>data table notebook</a>'\n",
              "          + ' to learn more about interactive tables.';\n",
              "        element.innerHTML = '';\n",
              "        dataTable['output_type'] = 'display_data';\n",
              "        await google.colab.output.renderOutput(dataTable, element);\n",
              "        const docLink = document.createElement('div');\n",
              "        docLink.innerHTML = docLinkHtml;\n",
              "        element.appendChild(docLink);\n",
              "      }\n",
              "    </script>\n",
              "  </div>\n",
              "\n",
              "\n",
              "    <div id=\"df-41a9f647-1ec7-4e1c-95fa-7950deef12db\">\n",
              "      <button class=\"colab-df-quickchart\" onclick=\"quickchart('df-41a9f647-1ec7-4e1c-95fa-7950deef12db')\"\n",
              "                title=\"Suggest charts\"\n",
              "                style=\"display:none;\">\n",
              "\n",
              "<svg xmlns=\"http://www.w3.org/2000/svg\" height=\"24px\"viewBox=\"0 0 24 24\"\n",
              "     width=\"24px\">\n",
              "    <g>\n",
              "        <path d=\"M19 3H5c-1.1 0-2 .9-2 2v14c0 1.1.9 2 2 2h14c1.1 0 2-.9 2-2V5c0-1.1-.9-2-2-2zM9 17H7v-7h2v7zm4 0h-2V7h2v10zm4 0h-2v-4h2v4z\"/>\n",
              "    </g>\n",
              "</svg>\n",
              "      </button>\n",
              "\n",
              "<style>\n",
              "  .colab-df-quickchart {\n",
              "      --bg-color: #E8F0FE;\n",
              "      --fill-color: #1967D2;\n",
              "      --hover-bg-color: #E2EBFA;\n",
              "      --hover-fill-color: #174EA6;\n",
              "      --disabled-fill-color: #AAA;\n",
              "      --disabled-bg-color: #DDD;\n",
              "  }\n",
              "\n",
              "  [theme=dark] .colab-df-quickchart {\n",
              "      --bg-color: #3B4455;\n",
              "      --fill-color: #D2E3FC;\n",
              "      --hover-bg-color: #434B5C;\n",
              "      --hover-fill-color: #FFFFFF;\n",
              "      --disabled-bg-color: #3B4455;\n",
              "      --disabled-fill-color: #666;\n",
              "  }\n",
              "\n",
              "  .colab-df-quickchart {\n",
              "    background-color: var(--bg-color);\n",
              "    border: none;\n",
              "    border-radius: 50%;\n",
              "    cursor: pointer;\n",
              "    display: none;\n",
              "    fill: var(--fill-color);\n",
              "    height: 32px;\n",
              "    padding: 0;\n",
              "    width: 32px;\n",
              "  }\n",
              "\n",
              "  .colab-df-quickchart:hover {\n",
              "    background-color: var(--hover-bg-color);\n",
              "    box-shadow: 0 1px 2px rgba(60, 64, 67, 0.3), 0 1px 3px 1px rgba(60, 64, 67, 0.15);\n",
              "    fill: var(--button-hover-fill-color);\n",
              "  }\n",
              "\n",
              "  .colab-df-quickchart-complete:disabled,\n",
              "  .colab-df-quickchart-complete:disabled:hover {\n",
              "    background-color: var(--disabled-bg-color);\n",
              "    fill: var(--disabled-fill-color);\n",
              "    box-shadow: none;\n",
              "  }\n",
              "\n",
              "  .colab-df-spinner {\n",
              "    border: 2px solid var(--fill-color);\n",
              "    border-color: transparent;\n",
              "    border-bottom-color: var(--fill-color);\n",
              "    animation:\n",
              "      spin 1s steps(1) infinite;\n",
              "  }\n",
              "\n",
              "  @keyframes spin {\n",
              "    0% {\n",
              "      border-color: transparent;\n",
              "      border-bottom-color: var(--fill-color);\n",
              "      border-left-color: var(--fill-color);\n",
              "    }\n",
              "    20% {\n",
              "      border-color: transparent;\n",
              "      border-left-color: var(--fill-color);\n",
              "      border-top-color: var(--fill-color);\n",
              "    }\n",
              "    30% {\n",
              "      border-color: transparent;\n",
              "      border-left-color: var(--fill-color);\n",
              "      border-top-color: var(--fill-color);\n",
              "      border-right-color: var(--fill-color);\n",
              "    }\n",
              "    40% {\n",
              "      border-color: transparent;\n",
              "      border-right-color: var(--fill-color);\n",
              "      border-top-color: var(--fill-color);\n",
              "    }\n",
              "    60% {\n",
              "      border-color: transparent;\n",
              "      border-right-color: var(--fill-color);\n",
              "    }\n",
              "    80% {\n",
              "      border-color: transparent;\n",
              "      border-right-color: var(--fill-color);\n",
              "      border-bottom-color: var(--fill-color);\n",
              "    }\n",
              "    90% {\n",
              "      border-color: transparent;\n",
              "      border-bottom-color: var(--fill-color);\n",
              "    }\n",
              "  }\n",
              "</style>\n",
              "\n",
              "      <script>\n",
              "        async function quickchart(key) {\n",
              "          const quickchartButtonEl =\n",
              "            document.querySelector('#' + key + ' button');\n",
              "          quickchartButtonEl.disabled = true;  // To prevent multiple clicks.\n",
              "          quickchartButtonEl.classList.add('colab-df-spinner');\n",
              "          try {\n",
              "            const charts = await google.colab.kernel.invokeFunction(\n",
              "                'suggestCharts', [key], {});\n",
              "          } catch (error) {\n",
              "            console.error('Error during call to suggestCharts:', error);\n",
              "          }\n",
              "          quickchartButtonEl.classList.remove('colab-df-spinner');\n",
              "          quickchartButtonEl.classList.add('colab-df-quickchart-complete');\n",
              "        }\n",
              "        (() => {\n",
              "          let quickchartButtonEl =\n",
              "            document.querySelector('#df-41a9f647-1ec7-4e1c-95fa-7950deef12db button');\n",
              "          quickchartButtonEl.style.display =\n",
              "            google.colab.kernel.accessAllowed ? 'block' : 'none';\n",
              "        })();\n",
              "      </script>\n",
              "    </div>\n",
              "\n",
              "    </div>\n",
              "  </div>\n"
            ],
            "application/vnd.google.colaboratory.intrinsic+json": {
              "type": "dataframe",
              "variable_name": "df",
              "summary": "{\n  \"name\": \"df\",\n  \"rows\": 99,\n  \"fields\": [\n    {\n      \"column\": \"customer_id\",\n      \"properties\": {\n        \"dtype\": \"number\",\n        \"std\": 28,\n        \"min\": 0,\n        \"max\": 98,\n        \"num_unique_values\": 99,\n        \"samples\": [\n          62,\n          40,\n          95\n        ],\n        \"semantic_type\": \"\",\n        \"description\": \"\"\n      }\n    },\n    {\n      \"column\": \"name\",\n      \"properties\": {\n        \"dtype\": \"string\",\n        \"num_unique_values\": 99,\n        \"samples\": [\n          \"Customer_62\",\n          \"Customer_40\",\n          \"Customer_95\"\n        ],\n        \"semantic_type\": \"\",\n        \"description\": \"\"\n      }\n    },\n    {\n      \"column\": \"city\",\n      \"properties\": {\n        \"dtype\": \"category\",\n        \"num_unique_values\": 8,\n        \"samples\": [\n          \"Bangalore\",\n          \"Delhi\",\n          \"Pune\"\n        ],\n        \"semantic_type\": \"\",\n        \"description\": \"\"\n      }\n    },\n    {\n      \"column\": \"state\",\n      \"properties\": {\n        \"dtype\": \"category\",\n        \"num_unique_values\": 7,\n        \"samples\": [\n          \"Maharashtra\",\n          \"Tamil Nadu\",\n          \"West Bengal\"\n        ],\n        \"semantic_type\": \"\",\n        \"description\": \"\"\n      }\n    },\n    {\n      \"column\": \"country\",\n      \"properties\": {\n        \"dtype\": \"category\",\n        \"num_unique_values\": 1,\n        \"samples\": [\n          \"India\"\n        ],\n        \"semantic_type\": \"\",\n        \"description\": \"\"\n      }\n    },\n    {\n      \"column\": \"registration_date\",\n      \"properties\": {\n        \"dtype\": \"object\",\n        \"num_unique_values\": 90,\n        \"samples\": [\n          \"2023-01-15\"\n        ],\n        \"semantic_type\": \"\",\n        \"description\": \"\"\n      }\n    },\n    {\n      \"column\": \"is_active\",\n      \"properties\": {\n        \"dtype\": \"boolean\",\n        \"num_unique_values\": 2,\n        \"samples\": [\n          true\n        ],\n        \"semantic_type\": \"\",\n        \"description\": \"\"\n      }\n    }\n  ]\n}"
            }
          },
          "metadata": {},
          "execution_count": 4
        }
      ]
    },
    {
      "cell_type": "code",
      "source": [
        "# Create a client on confluent\n",
        "conf = {\n",
        "    'bootstrap.servers': 'pkc-619z3.us-east1.gcp.confluent.cloud:9092',  # replace with your cluster\n",
        "    'security.protocol': 'SASL_SSL',\n",
        "    'sasl.mechanisms': 'PLAIN',\n",
        "    'sasl.username': 'SZQMKVH3ZUOA7WJX',\n",
        "    'sasl.password': 'cfltK7z4aPO3ld9Pby9LFlNg607NgoJm5jHri05QUgD92hjFvmVyShyKDqIxi/LA'\n",
        "}"
      ],
      "metadata": {
        "id": "fYnPdMeZ4Whf"
      },
      "execution_count": null,
      "outputs": []
    },
    {
      "cell_type": "code",
      "source": [
        "producer = Producer(conf)\n",
        "topic = \"ecommerce\""
      ],
      "metadata": {
        "id": "5e3lz8b_4Wlz"
      },
      "execution_count": null,
      "outputs": []
    },
    {
      "cell_type": "code",
      "source": [
        "# Load jason\n",
        "with open(\"/content/first_100_customers.json\",'r') as file:\n",
        "  customers_data = json.load(file)"
      ],
      "metadata": {
        "id": "yAJQxgGG4WqY"
      },
      "execution_count": null,
      "outputs": []
    },
    {
      "cell_type": "code",
      "source": [
        "# Send a single value\n",
        "\n",
        "value = customers_data[0]\n",
        "key = value[\"customer_id\"]\n",
        "print(value)\n",
        "print(key)\n",
        "\n",
        "producer.produce(topic, key=key, value=json.dumps(value))\n",
        "producer.flush()"
      ],
      "metadata": {
        "colab": {
          "base_uri": "https://localhost:8080/",
          "height": 248
        },
        "id": "LCbuFpC24Wsp",
        "outputId": "4963c283-a093-4972-95ef-f79517ae75c1"
      },
      "execution_count": null,
      "outputs": [
        {
          "output_type": "stream",
          "name": "stdout",
          "text": [
            "{'customer_id': 0, 'name': 'Customer_0', 'city': 'Pune', 'state': 'Maharashtra', 'country': 'India', 'registration_date': '2023-06-29', 'is_active': False}\n",
            "0\n"
          ]
        },
        {
          "output_type": "error",
          "ename": "TypeError",
          "evalue": "a bytes-like object is required, not 'int'",
          "traceback": [
            "\u001b[0;31m---------------------------------------------------------------------------\u001b[0m",
            "\u001b[0;31mTypeError\u001b[0m                                 Traceback (most recent call last)",
            "\u001b[0;32m/tmp/ipython-input-1881721616.py\u001b[0m in \u001b[0;36m<cell line: 0>\u001b[0;34m()\u001b[0m\n\u001b[1;32m      6\u001b[0m \u001b[0mprint\u001b[0m\u001b[0;34m(\u001b[0m\u001b[0mkey\u001b[0m\u001b[0;34m)\u001b[0m\u001b[0;34m\u001b[0m\u001b[0;34m\u001b[0m\u001b[0m\n\u001b[1;32m      7\u001b[0m \u001b[0;34m\u001b[0m\u001b[0m\n\u001b[0;32m----> 8\u001b[0;31m \u001b[0mproducer\u001b[0m\u001b[0;34m.\u001b[0m\u001b[0mproduce\u001b[0m\u001b[0;34m(\u001b[0m\u001b[0mtopic\u001b[0m\u001b[0;34m,\u001b[0m \u001b[0mkey\u001b[0m\u001b[0;34m=\u001b[0m\u001b[0mkey\u001b[0m\u001b[0;34m,\u001b[0m \u001b[0mvalue\u001b[0m\u001b[0;34m=\u001b[0m\u001b[0mjson\u001b[0m\u001b[0;34m.\u001b[0m\u001b[0mdumps\u001b[0m\u001b[0;34m(\u001b[0m\u001b[0mvalue\u001b[0m\u001b[0;34m)\u001b[0m\u001b[0;34m)\u001b[0m\u001b[0;34m\u001b[0m\u001b[0;34m\u001b[0m\u001b[0m\n\u001b[0m\u001b[1;32m      9\u001b[0m \u001b[0mproducer\u001b[0m\u001b[0;34m.\u001b[0m\u001b[0mflush\u001b[0m\u001b[0;34m(\u001b[0m\u001b[0;34m)\u001b[0m\u001b[0;34m\u001b[0m\u001b[0;34m\u001b[0m\u001b[0m\n",
            "\u001b[0;31mTypeError\u001b[0m: a bytes-like object is required, not 'int'"
          ]
        }
      ]
    },
    {
      "cell_type": "code",
      "source": [
        "# value and key should be byte like objects. So need to be converted\n",
        "producer.produce(topic, key= str(key).encode('utf-8'), value=str(value).encode('utf-8'))\n",
        "producer.flush()"
      ],
      "metadata": {
        "colab": {
          "base_uri": "https://localhost:8080/"
        },
        "id": "TjNaUrgj7uHr",
        "outputId": "54d090aa-1809-423e-9b48-229f9c6e7ae1"
      },
      "execution_count": null,
      "outputs": [
        {
          "output_type": "execute_result",
          "data": {
            "text/plain": [
              "0"
            ]
          },
          "metadata": {},
          "execution_count": 17
        }
      ]
    },
    {
      "cell_type": "code",
      "source": [
        "# Callback function that Kafka calls after each message is delivered (or fails).\n",
        "# This helps us confirm that our messages actually reached the Kafka cluster.\n",
        "def delivery_report(err, msg):\n",
        "    if err is not None:\n",
        "        # If delivery fails, print the error\n",
        "        print(f'Message delivery failed: {err}')\n",
        "    else:\n",
        "        # If delivery succeeds, print topic name and partition where message went\n",
        "        print(f'Message delivered to {msg.topic()} [Partition: {msg.partition()}]')\n",
        "\n",
        "\n",
        "# Loop through all customer records we want to send to Kafka\n",
        "for record in customers_data:\n",
        "    try:\n",
        "        # Extract customer_id as the key\n",
        "        # The key ensures that all messages from the same customer\n",
        "        # go to the SAME partition (preserves ordering for that customer).\n",
        "        key = record[\"customer_id\"]\n",
        "\n",
        "        # Convert the record (dictionary) into a string for sending.\n",
        "        # Kafka messages must be bytes, so we encode strings into UTF-8.\n",
        "        value = record\n",
        "        producer.produce(\n",
        "            topic,\n",
        "            key=str(key).encode('utf-8'),       # Convert customer_id into bytes\n",
        "            value=str(value).encode('utf-8'),   # Convert the whole record into bytes\n",
        "            callback=delivery_report            # Call delivery_report when send is done\n",
        "        )\n",
        "\n",
        "        # Poll Kafka to trigger the delivery_report callback\n",
        "        # This processes background network events and ensures delivery confirmation.\n",
        "        producer.poll(1)\n",
        "\n",
        "    except Exception as e:\n",
        "        # If any error happens while producing, print it\n",
        "        print(f\"Error: {e}\")\n",
        "\n",
        "\n",
        "# Flush ensures that ALL buffered messages are sent before program exits.\n",
        "# Without this, some messages may remain in memory and never reach Kafka.\n",
        "producer.flush()"
      ],
      "metadata": {
        "colab": {
          "base_uri": "https://localhost:8080/"
        },
        "id": "dkNyhlu594Sx",
        "outputId": "c2ec3825-eb79-4410-ccbb-046659d8f0e6"
      },
      "execution_count": null,
      "outputs": [
        {
          "output_type": "stream",
          "name": "stdout",
          "text": [
            "Message delivered to ecommerce [Partition: 2]\n",
            "Message delivered to ecommerce [Partition: 2]\n",
            "Message delivered to ecommerce [Partition: 1]\n",
            "Message delivered to ecommerce [Partition: 1]\n",
            "Message delivered to ecommerce [Partition: 1]\n",
            "Message delivered to ecommerce [Partition: 1]\n",
            "Message delivered to ecommerce [Partition: 1]\n",
            "Message delivered to ecommerce [Partition: 0]\n",
            "Message delivered to ecommerce [Partition: 2]\n",
            "Message delivered to ecommerce [Partition: 0]\n",
            "Message delivered to ecommerce [Partition: 0]\n",
            "Message delivered to ecommerce [Partition: 0]\n",
            "Message delivered to ecommerce [Partition: 0]\n",
            "Message delivered to ecommerce [Partition: 2]\n",
            "Message delivered to ecommerce [Partition: 0]\n",
            "Message delivered to ecommerce [Partition: 1]\n",
            "Message delivered to ecommerce [Partition: 0]\n",
            "Message delivered to ecommerce [Partition: 2]\n",
            "Message delivered to ecommerce [Partition: 0]\n",
            "Message delivered to ecommerce [Partition: 1]\n",
            "Message delivered to ecommerce [Partition: 0]\n",
            "Message delivered to ecommerce [Partition: 1]\n",
            "Message delivered to ecommerce [Partition: 2]\n",
            "Message delivered to ecommerce [Partition: 1]\n",
            "Message delivered to ecommerce [Partition: 2]\n",
            "Message delivered to ecommerce [Partition: 0]\n",
            "Message delivered to ecommerce [Partition: 1]\n",
            "Message delivered to ecommerce [Partition: 0]\n",
            "Message delivered to ecommerce [Partition: 0]\n",
            "Message delivered to ecommerce [Partition: 2]\n",
            "Message delivered to ecommerce [Partition: 1]\n",
            "Message delivered to ecommerce [Partition: 1]\n",
            "Message delivered to ecommerce [Partition: 1]\n",
            "Message delivered to ecommerce [Partition: 2]\n",
            "Message delivered to ecommerce [Partition: 2]\n",
            "Message delivered to ecommerce [Partition: 1]\n",
            "Message delivered to ecommerce [Partition: 1]\n",
            "Message delivered to ecommerce [Partition: 1]\n",
            "Message delivered to ecommerce [Partition: 0]\n",
            "Message delivered to ecommerce [Partition: 1]\n",
            "Message delivered to ecommerce [Partition: 2]\n",
            "Message delivered to ecommerce [Partition: 2]\n",
            "Message delivered to ecommerce [Partition: 2]\n",
            "Message delivered to ecommerce [Partition: 1]\n",
            "Message delivered to ecommerce [Partition: 2]\n",
            "Message delivered to ecommerce [Partition: 1]\n",
            "Message delivered to ecommerce [Partition: 0]\n",
            "Message delivered to ecommerce [Partition: 0]\n",
            "Message delivered to ecommerce [Partition: 0]\n",
            "Message delivered to ecommerce [Partition: 0]\n",
            "Message delivered to ecommerce [Partition: 0]\n",
            "Message delivered to ecommerce [Partition: 0]\n",
            "Message delivered to ecommerce [Partition: 1]\n",
            "Message delivered to ecommerce [Partition: 0]\n",
            "Message delivered to ecommerce [Partition: 1]\n",
            "Message delivered to ecommerce [Partition: 2]\n",
            "Message delivered to ecommerce [Partition: 1]\n",
            "Message delivered to ecommerce [Partition: 0]\n",
            "Message delivered to ecommerce [Partition: 0]\n",
            "Message delivered to ecommerce [Partition: 2]\n",
            "Message delivered to ecommerce [Partition: 0]\n",
            "Message delivered to ecommerce [Partition: 1]\n",
            "Message delivered to ecommerce [Partition: 1]\n",
            "Message delivered to ecommerce [Partition: 0]\n",
            "Message delivered to ecommerce [Partition: 0]\n",
            "Message delivered to ecommerce [Partition: 0]\n",
            "Message delivered to ecommerce [Partition: 1]\n",
            "Message delivered to ecommerce [Partition: 1]\n",
            "Message delivered to ecommerce [Partition: 1]\n",
            "Message delivered to ecommerce [Partition: 1]\n",
            "Message delivered to ecommerce [Partition: 1]\n",
            "Message delivered to ecommerce [Partition: 1]\n",
            "Message delivered to ecommerce [Partition: 0]\n",
            "Message delivered to ecommerce [Partition: 1]\n",
            "Message delivered to ecommerce [Partition: 2]\n",
            "Message delivered to ecommerce [Partition: 0]\n",
            "Message delivered to ecommerce [Partition: 2]\n",
            "Message delivered to ecommerce [Partition: 0]\n",
            "Message delivered to ecommerce [Partition: 0]\n",
            "Message delivered to ecommerce [Partition: 2]\n",
            "Message delivered to ecommerce [Partition: 0]\n",
            "Message delivered to ecommerce [Partition: 2]\n",
            "Message delivered to ecommerce [Partition: 0]\n",
            "Message delivered to ecommerce [Partition: 2]\n",
            "Message delivered to ecommerce [Partition: 1]\n",
            "Message delivered to ecommerce [Partition: 0]\n",
            "Message delivered to ecommerce [Partition: 0]\n",
            "Message delivered to ecommerce [Partition: 1]\n",
            "Message delivered to ecommerce [Partition: 1]\n",
            "Message delivered to ecommerce [Partition: 0]\n",
            "Message delivered to ecommerce [Partition: 0]\n",
            "Message delivered to ecommerce [Partition: 0]\n",
            "Message delivered to ecommerce [Partition: 1]\n",
            "Message delivered to ecommerce [Partition: 1]\n",
            "Message delivered to ecommerce [Partition: 0]\n",
            "Message delivered to ecommerce [Partition: 0]\n",
            "Message delivered to ecommerce [Partition: 1]\n",
            "Message delivered to ecommerce [Partition: 0]\n",
            "Message delivered to ecommerce [Partition: 0]\n"
          ]
        },
        {
          "output_type": "execute_result",
          "data": {
            "text/plain": [
              "0"
            ]
          },
          "metadata": {},
          "execution_count": 18
        }
      ]
    },
    {
      "cell_type": "markdown",
      "source": [
        "# Recieve data from kafka Cluster [Consumer]"
      ],
      "metadata": {
        "id": "j4DpelQEvhSh"
      }
    },
    {
      "cell_type": "code",
      "source": [
        "from confluent_kafka import Consumer, KafkaError\n",
        "import json\n",
        "import time\n",
        "\n",
        "# Required connection configs for kafka consumer\n",
        "consumer_conf = {\n",
        "    'bootstrap.servers': 'pkc-619z3.us-east1.gcp.confluent.cloud:9092',  # replace with your cluster\n",
        "    'security.protocol': 'SASL_SSL',\n",
        "    'sasl.mechanisms': 'PLAIN',\n",
        "    'sasl.username': 'SZQMKVH3ZUOA7WJX',\n",
        "    'sasl.password': 'cfltK7z4aPO3ld9Pby9LFlNg607NgoJm5jHri05QUgD92hjFvmVyShyKDqIxi',\n",
        "    'group.id': 'python-group-1',  # Replace with a unique group ID\n",
        "    'auto.offset.reset': 'earliest'  # Start consuming from the beginning of the topic\n",
        "}\n"
      ],
      "metadata": {
        "id": "SeLImM2yvk-I"
      },
      "execution_count": null,
      "outputs": []
    },
    {
      "cell_type": "code",
      "source": [
        "consumer = Consumer(consumer_conf)\n",
        "consumer"
      ],
      "metadata": {
        "colab": {
          "base_uri": "https://localhost:8080/"
        },
        "id": "NkIRRWnEwygx",
        "outputId": "8cb2d1ee-e7c8-4db6-effc-ab55f6795972"
      },
      "execution_count": null,
      "outputs": [
        {
          "output_type": "execute_result",
          "data": {
            "text/plain": [
              "<cimpl.Consumer at 0x7b5b2ad779c0>"
            ]
          },
          "metadata": {},
          "execution_count": 38
        }
      ]
    },
    {
      "cell_type": "code",
      "source": [
        "# Define the Kafka topic to consume from\n",
        "topic = 'ecommerce'\n",
        "\n",
        "# Subscribe this consumer to the topic.\n",
        "# (Consumers can subscribe to multiple topics by passing a list)\n",
        "consumer.subscribe([topic])\n",
        "\n",
        "\n",
        "# Define a function to process each message safely\n",
        "def processes_message(message):\n",
        "    try:\n",
        "        # Check if the message has an error\n",
        "        if message.error():\n",
        "            # Special case: End of a Kafka partition (not an error, just info)\n",
        "            if message.error().code() == KafkaError._PARTITION_EOF:\n",
        "                print('%% %s [%d] reached end at offset %d\\n' %\n",
        "                      (message.topic(), message.partition(), message.offset()))\n",
        "            # If it's another type of error, raise an exception\n",
        "            elif message.error():\n",
        "                raise Exception(message.error())\n",
        "        else:\n",
        "            # ✅ Proper message received — print its details\n",
        "            print('%% %s [%d] at offset %d with key %s:\\n' %\n",
        "                  (message.topic(), message.partition(), message.offset(),\n",
        "                   str(message.key())))\n",
        "\n",
        "            # Decode the message value (bytes → string) and print it\n",
        "            print(json.Load(message.value().decode('utf-8')))\n",
        "\n",
        "    except Exception as e:\n",
        "        # Catch any errors in message processing logic\n",
        "        print(f\"Error processing message: {e}\")\n"
      ],
      "metadata": {
        "id": "Wqf380kLxAvw"
      },
      "execution_count": null,
      "outputs": []
    },
    {
      "cell_type": "code",
      "source": [
        "# -----------------------\n",
        "# Poll loop: continuously fetch messages from Kafka\n",
        "# -----------------------\n",
        "try:\n",
        "    print(\"Listening for messages... (Press Ctrl+C to exit)\")\n",
        "\n",
        "    while True:\n",
        "        # poll() fetches messages from the broker\n",
        "        # timeout=1.0 → wait up to 1 second before returning None\n",
        "        message = consumer.poll(timeout=1.0)\n",
        "\n",
        "        if(message):\n",
        "          processes_message(message)\n",
        "\n",
        "# Allow graceful shutdown with Ctrl+C\n",
        "except KeyboardInterrupt:\n",
        "    print(\"User ended the consumer (KeyboardInterrupt).\")\n",
        "\n",
        "finally:\n",
        "    # Always close the consumer to free resources and commit offsets safely\n",
        "    consumer.close()"
      ],
      "metadata": {
        "colab": {
          "base_uri": "https://localhost:8080/"
        },
        "id": "r80WmCNVyvPM",
        "outputId": "e59c4843-34df-47ee-ea7b-c6fde38518fb"
      },
      "execution_count": null,
      "outputs": [
        {
          "output_type": "stream",
          "name": "stdout",
          "text": [
            "Listening for messages... (Press Ctrl+C to exit)\n",
            "User ended the consumer (KeyboardInterrupt).\n"
          ]
        }
      ]
    },
    {
      "cell_type": "code",
      "source": [],
      "metadata": {
        "id": "GWdVTY8z1ZRe"
      },
      "execution_count": null,
      "outputs": []
    }
  ]
}